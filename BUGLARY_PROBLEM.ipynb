{
 "cells": [
  {
   "cell_type": "code",
   "execution_count": 1,
   "metadata": {},
   "outputs": [],
   "source": [
    "#Importing packages from pgmpy\n",
    "from pgmpy.models import BayesianModel\n",
    "from pgmpy.factors.discrete import TabularCPD \n",
    "import bnlearn"
   ]
  },
  {
   "cell_type": "code",
   "execution_count": 2,
   "metadata": {},
   "outputs": [],
   "source": [
    " # Defining the model structure. We can define the network by just passing a list of edges\n",
    "model = BayesianModel([('Buglary','Alarm'),('Earthquake','Alarm'),('Alarm','David'),('Alarm','Sophia')])"
   ]
  },
  {
   "cell_type": "code",
   "execution_count": 3,
   "metadata": {},
   "outputs": [
    {
     "name": "stdout",
     "output_type": "stream",
     "text": [
      "[bnlearn] >Plot based on BayesianModel\n"
     ]
    },
    {
     "data": {
      "image/png": "[encoded data removed]",
      "text/plain": [
       "<Figure size 1080x576 with 1 Axes>"
      ]
     },
     "metadata": {},
     "output_type": "display_data"
    },
    {
     "data": {
      "text/plain": [
       "{'pos': {'Buglary': array([-1.        ,  0.25036127]),\n",
       "  'Alarm': array([-0.12433885,  0.88639232]),\n",
       "  'Earthquake': array([0.87997976, 0.55855919]),\n",
       "  'David': array([-0.51506645, -0.89669737]),\n",
       "  'Sophia': array([ 0.75942554, -0.79861541])},\n",
       " 'G': <networkx.classes.digraph.DiGraph at 0x1ffaaba2a30>}"
      ]
     },
     "execution_count": 3,
     "metadata": {},
     "output_type": "execute_result"
    }
   ],
   "source": [
    "#graphically representing the buglary problem\n",
    "bnlearn.plot(model)"
   ]
  },
  {
   "cell_type": "code",
   "execution_count": 4,
   "metadata": {},
   "outputs": [],
   "source": [
    "# creating a tabular conditional probability for every features \n",
    "cpd_b = TabularCPD(variable='Buglary', variable_card=2, values=[[0.002], [0.998]])\n",
    "cpd_e = TabularCPD(variable='Earthquake', variable_card=2, values=[[0.001], [0.999]])\n",
    "cpd_a = TabularCPD(variable='Alarm', variable_card=2, \n",
    "                    values=[[0.94,0.95,0.31, 0.001],\n",
    "                            [0.06,0.05,0.69, 0.999]],\n",
    "                   evidence=['Buglary', 'Earthquake'],\n",
    "                   evidence_card=[2,2])\n",
    "cpd_d= TabularCPD(variable='David', variable_card=2, \n",
    "                    values=[[0.91,0.05],\n",
    "                            [0.09,0.95]],\n",
    "                    evidence=['Alarm'],\n",
    "                    evidence_card=[2])\n",
    "cpd_s = TabularCPD(variable='Sophia', variable_card=2,\n",
    "                    values=[[0.75, 0.02],\n",
    "                            [0.25, 0.98]],\n",
    "                    evidence=['Alarm'],\n",
    "                    evidence_card=[2])"
   ]
  },
  {
   "cell_type": "code",
   "execution_count": 5,
   "metadata": {},
   "outputs": [],
   "source": [
    "#adding relationship to the model\n",
    "model.add_cpds(cpd_b,cpd_e,cpd_a,cpd_d,cpd_s)"
   ]
  },
  {
   "cell_type": "code",
   "execution_count": 6,
   "metadata": {},
   "outputs": [
    {
     "data": {
      "text/plain": [
       "[<TabularCPD representing P(Buglary:2) at 0x1ffab279d90>,\n",
       " <TabularCPD representing P(Earthquake:2) at 0x1ffab279d30>,\n",
       " <TabularCPD representing P(Alarm:2 | Buglary:2, Earthquake:2) at 0x1ffab279e20>,\n",
       " <TabularCPD representing P(David:2 | Alarm:2) at 0x1ffab279d60>,\n",
       " <TabularCPD representing P(Sophia:2 | Alarm:2) at 0x1ffab279dc0>]"
      ]
     },
     "execution_count": 6,
     "metadata": {},
     "output_type": "execute_result"
    }
   ],
   "source": [
    "#examine the structure of graph\n",
    "model.get_cpds()"
   ]
  },
  {
   "cell_type": "code",
   "execution_count": 7,
   "metadata": {},
   "outputs": [
    {
     "data": {
      "text/plain": [
       "{'Buglary': {'Alarm', 'Buglary', 'David', 'Sophia'}}"
      ]
     },
     "execution_count": 7,
     "metadata": {},
     "output_type": "execute_result"
    }
   ],
   "source": [
    "#finding active trails nodes basically depicting you the path \n",
    "model.active_trail_nodes('Buglary')"
   ]
  },
  {
   "cell_type": "code",
   "execution_count": 8,
   "metadata": {},
   "outputs": [
    {
     "data": {
      "text/plain": [
       "{'Earthquake': {'Alarm', 'David', 'Earthquake', 'Sophia'}}"
      ]
     },
     "execution_count": 8,
     "metadata": {},
     "output_type": "execute_result"
    }
   ],
   "source": [
    "#finding active nodes with earthquake\n",
    "model.active_trail_nodes('Earthquake')"
   ]
  },
  {
   "cell_type": "code",
   "execution_count": 9,
   "metadata": {},
   "outputs": [
    {
     "data": {
      "text/plain": [
       "(Buglary ⟂ Earthquake)"
      ]
     },
     "execution_count": 9,
     "metadata": {},
     "output_type": "execute_result"
    }
   ],
   "source": [
    "# which feature is independent from buglary\n",
    "model.local_independencies('Buglary')"
   ]
  },
  {
   "cell_type": "code",
   "execution_count": 10,
   "metadata": {},
   "outputs": [
    {
     "data": {
      "text/plain": [
       "(Earthquake ⟂ Buglary)"
      ]
     },
     "execution_count": 10,
     "metadata": {},
     "output_type": "execute_result"
    }
   ],
   "source": [
    "## which feature is independent from earthquake\n",
    "model.local_independencies('Earthquake')"
   ]
  },
  {
   "cell_type": "code",
   "execution_count": 11,
   "metadata": {},
   "outputs": [
    {
     "data": {
      "text/plain": [
       "(Buglary ⟂ Earthquake)\n",
       "(Buglary ⟂ David, Sophia | Alarm)\n",
       "(Buglary ⟂ David, Sophia | Earthquake, Alarm)\n",
       "(Buglary ⟂ Sophia | David, Alarm)\n",
       "(Buglary ⟂ David | Sophia, Alarm)\n",
       "(Buglary ⟂ Sophia | Earthquake, David, Alarm)\n",
       "(Buglary ⟂ David | Earthquake, Sophia, Alarm)\n",
       "(Earthquake ⟂ Buglary)\n",
       "(Earthquake ⟂ David, Sophia | Alarm)\n",
       "(Earthquake ⟂ Sophia | David, Alarm)\n",
       "(Earthquake ⟂ David, Sophia | Buglary, Alarm)\n",
       "(Earthquake ⟂ David | Sophia, Alarm)\n",
       "(Earthquake ⟂ Sophia | David, Buglary, Alarm)\n",
       "(Earthquake ⟂ David | Buglary, Sophia, Alarm)\n",
       "(David ⟂ Earthquake, Buglary, Sophia | Alarm)\n",
       "(David ⟂ Buglary, Sophia | Earthquake, Alarm)\n",
       "(David ⟂ Earthquake, Sophia | Buglary, Alarm)\n",
       "(David ⟂ Earthquake, Buglary | Sophia, Alarm)\n",
       "(David ⟂ Sophia | Earthquake, Buglary, Alarm)\n",
       "(David ⟂ Buglary | Earthquake, Sophia, Alarm)\n",
       "(David ⟂ Earthquake | Buglary, Sophia, Alarm)\n",
       "(Sophia ⟂ Earthquake, Buglary, David | Alarm)\n",
       "(Sophia ⟂ David, Buglary | Earthquake, Alarm)\n",
       "(Sophia ⟂ Earthquake, David | Buglary, Alarm)\n",
       "(Sophia ⟂ Earthquake, Buglary | David, Alarm)\n",
       "(Sophia ⟂ David | Earthquake, Buglary, Alarm)\n",
       "(Sophia ⟂ Buglary | Earthquake, David, Alarm)\n",
       "(Sophia ⟂ Earthquake | David, Buglary, Alarm)"
      ]
     },
     "execution_count": 11,
     "metadata": {},
     "output_type": "execute_result"
    }
   ],
   "source": [
    "# finding independent variable in model\n",
    "model.get_independencies()"
   ]
  },
  {
   "cell_type": "code",
   "execution_count": 12,
   "metadata": {},
   "outputs": [],
   "source": [
    "from pgmpy.inference import VariableElimination"
   ]
  },
  {
   "cell_type": "code",
   "execution_count": 13,
   "metadata": {},
   "outputs": [],
   "source": [
    "infer=VariableElimination(model)"
   ]
  },
  {
   "cell_type": "code",
   "execution_count": 14,
   "metadata": {},
   "outputs": [
    {
     "name": "stderr",
     "output_type": "stream",
     "text": [
      "Finding Elimination Order: :   0%|                                                               | 0/4 [00:00<?, ?it/s]\n",
      "  0%|                                                                                            | 0/4 [00:00<?, ?it/s]\u001b[A\n",
      "Eliminating: Earthquake:   0%|                                                                   | 0/4 [00:00<?, ?it/s]\u001b[A\n",
      "Eliminating: Buglary:   0%|                                                                      | 0/4 [00:00<?, ?it/s]\u001b[A\n",
      "Eliminating: Sophia:   0%|                                                                       | 0/4 [00:00<?, ?it/s]\u001b[A\n",
      "Eliminating: David: 100%|████████████████████████████████████████████████████████████████| 4/4 [00:00<00:00, 61.70it/s]\u001b[A"
     ]
    },
    {
     "name": "stdout",
     "output_type": "stream",
     "text": [
      "+----------+--------------+\n",
      "| Alarm    |   phi(Alarm) |\n",
      "+==========+==============+\n",
      "| Alarm(0) |       0.0032 |\n",
      "+----------+--------------+\n",
      "| Alarm(1) |       0.9968 |\n",
      "+----------+--------------+\n"
     ]
    },
    {
     "name": "stderr",
     "output_type": "stream",
     "text": [
      "\n"
     ]
    }
   ],
   "source": [
    "#probability distribution that are not explicity spelled out in our graphs\n",
    "a_prob=infer.query(['Alarm'])\n",
    "print(a_prob)"
   ]
  },
  {
   "cell_type": "code",
   "execution_count": 15,
   "metadata": {},
   "outputs": [
    {
     "name": "stderr",
     "output_type": "stream",
     "text": [
      "\n",
      "  0%|                                                                                            | 0/2 [00:00<?, ?it/s]\u001b[A\n",
      "Finding Elimination Order: :   0%|                                                               | 0/2 [00:00<?, ?it/s]\u001b[A\n",
      "\n",
      "  0%|                                                                                            | 0/2 [00:00<?, ?it/s]\u001b[A\u001b[A\n",
      "\n",
      "Eliminating: David:   0%|                                                                        | 0/2 [00:00<?, ?it/s]\u001b[A\u001b[A\n",
      "\n",
      "Eliminating: Sophia: 100%|██████████████████████████████████████████████████████████████| 2/2 [00:00<00:00, 105.55it/s]\u001b[A\u001b[A"
     ]
    },
    {
     "name": "stdout",
     "output_type": "stream",
     "text": [
      "+----------+--------------+\n",
      "| Alarm    |   phi(Alarm) |\n",
      "+==========+==============+\n",
      "| Alarm(0) |       0.9400 |\n",
      "+----------+--------------+\n",
      "| Alarm(1) |       0.0600 |\n",
      "+----------+--------------+\n"
     ]
    },
    {
     "name": "stderr",
     "output_type": "stream",
     "text": [
      "\n"
     ]
    }
   ],
   "source": [
    "#conditional probability of ringing of alarm when buglary and earthquake is not occuring\n",
    "print(infer.query(['Alarm'],evidence={'Buglary':0,'Earthquake':0}))"
   ]
  },
  {
   "cell_type": "code",
   "execution_count": 16,
   "metadata": {},
   "outputs": [
    {
     "name": "stderr",
     "output_type": "stream",
     "text": [
      "\n",
      "\n",
      "0it [00:00, ?it/s]\u001b[A\u001b[A\n",
      "\n",
      "Finding Elimination Order: : : 0it [00:00, ?it/s]\u001b[A\u001b[A\n",
      "\n",
      "\n",
      "0it [00:00, ?it/s]\u001b[A\u001b[A\u001b[A"
     ]
    },
    {
     "name": "stdout",
     "output_type": "stream",
     "text": [
      "+----------+--------------+\n",
      "| Alarm    |   phi(Alarm) |\n",
      "+==========+==============+\n",
      "| Alarm(0) |       0.2746 |\n",
      "+----------+--------------+\n",
      "| Alarm(1) |       0.7254 |\n",
      "+----------+--------------+\n"
     ]
    },
    {
     "name": "stderr",
     "output_type": "stream",
     "text": [
      "\n"
     ]
    }
   ],
   "source": [
    "#conditional probability of ringing of alarm when there is no buglary and earthquake but  still David and Sophia call harry\n",
    "print(infer.query(['Alarm'], evidence={'Buglary':0,'Earthquake':0,'David':1,'Sophia':1}))"
   ]
  },
  {
   "cell_type": "code",
   "execution_count": 17,
   "metadata": {},
   "outputs": [
    {
     "name": "stderr",
     "output_type": "stream",
     "text": [
      "\n",
      "\n",
      "\n",
      "0it [00:00, ?it/s]\u001b[A\u001b[A\u001b[A\n",
      "\n",
      "\n",
      "Finding Elimination Order: : : 0it [00:00, ?it/s]\u001b[A\u001b[A\u001b[A\n",
      "\n",
      "\n",
      "\n",
      "0it [00:00, ?it/s]\u001b[A\u001b[A\u001b[A\u001b[A"
     ]
    },
    {
     "name": "stdout",
     "output_type": "stream",
     "text": [
      "+----------+--------------+\n",
      "| Alarm    |   phi(Alarm) |\n",
      "+==========+==============+\n",
      "| Alarm(0) |       0.9888 |\n",
      "+----------+--------------+\n",
      "| Alarm(1) |       0.0112 |\n",
      "+----------+--------------+\n"
     ]
    },
    {
     "name": "stderr",
     "output_type": "stream",
     "text": [
      "\n"
     ]
    }
   ],
   "source": [
    "print(infer.query(['Alarm'], evidence={'Buglary':0,'Earthquake':1,'David':0,'Sophia':1}))"
   ]
  },
  {
   "cell_type": "code",
   "execution_count": null,
   "metadata": {},
   "outputs": [],
   "source": []
  }
 ],
 "metadata": {
  "kernelspec": {
   "display_name": "Python 3",
   "language": "python",
   "name": "python3"
  },
  "language_info": {
   "codemirror_mode": {
    "name": "ipython",
    "version": 3
   },
   "file_extension": ".py",
   "mimetype": "text/x-python",
   "name": "python",
   "nbconvert_exporter": "python",
   "pygments_lexer": "ipython3",
   "version": "3.8.8"
  }
 },
 "nbformat": 4,
 "nbformat_minor": 4
}
